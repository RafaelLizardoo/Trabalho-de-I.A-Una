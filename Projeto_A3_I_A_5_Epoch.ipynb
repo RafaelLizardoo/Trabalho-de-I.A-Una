{
  "nbformat": 4,
  "nbformat_minor": 0,
  "metadata": {
    "colab": {
      "name": "Cópia de Projeto A3 I.A - 5 Epoch",
      "provenance": [],
      "mount_file_id": "15LZSCmXT_6Ck78h58eZ9cE5typg30UPd",
      "authorship_tag": "ABX9TyMsp2Asboc2Zigyvja+beXY",
      "include_colab_link": true
    },
    "kernelspec": {
      "name": "python3",
      "display_name": "Python 3"
    },
    "language_info": {
      "name": "python"
    }
  },
  "cells": [
    {
      "cell_type": "markdown",
      "metadata": {
        "id": "view-in-github",
        "colab_type": "text"
      },
      "source": [
        "<a href=\"https://colab.research.google.com/github/RafaelLizardoo/Trabalho-de-I.A-Una/blob/main/Projeto_A3_I_A_5_Epoch.ipynb\" target=\"_parent\"><img src=\"https://colab.research.google.com/assets/colab-badge.svg\" alt=\"Open In Colab\"/></a>"
      ]
    },
    {
      "cell_type": "code",
      "source": [
        "pip install xlrd"
      ],
      "metadata": {
        "colab": {
          "base_uri": "https://localhost:8080/"
        },
        "id": "OUNWhb_9Eova",
        "outputId": "2d73eecf-df86-48c5-8d0e-9fe34172316e"
      },
      "execution_count": 1,
      "outputs": [
        {
          "output_type": "stream",
          "name": "stdout",
          "text": [
            "Looking in indexes: https://pypi.org/simple, https://us-python.pkg.dev/colab-wheels/public/simple/\n",
            "Requirement already satisfied: xlrd in /usr/local/lib/python3.7/dist-packages (1.1.0)\n"
          ]
        }
      ]
    },
    {
      "cell_type": "code",
      "source": [
        "import numpy as np\n",
        "import pandas as pd\n",
        "\n",
        "from keras.preprocessing.text import Tokenizer\n",
        "from keras.preprocessing.sequence import pad_sequences\n",
        "from sklearn.model_selection import train_test_split\n",
        "\n",
        "from keras.preprocessing.text import text_to_word_sequence\n",
        "import re, os\n",
        "\n",
        "from keras.models import Model\n",
        "\n",
        "from keras.layers import Input\n",
        "from keras.layers import Dense\n",
        "from keras.layers import Embedding\n",
        "from keras.layers import LSTM, Bidirectional\n",
        "import matplotlib.pyplot as plt\n",
        "from nltk.corpus import stopwords\n",
        "from tqdm import tqdm\n",
        "import nltk\n",
        "nltk.download('stopwords')"
      ],
      "metadata": {
        "id": "Zxqff9MqXXOi",
        "colab": {
          "base_uri": "https://localhost:8080/"
        },
        "outputId": "6d4f394a-cd2c-4403-f484-12061b2b7cc2"
      },
      "execution_count": 2,
      "outputs": [
        {
          "output_type": "stream",
          "name": "stderr",
          "text": [
            "[nltk_data] Downloading package stopwords to /root/nltk_data...\n",
            "[nltk_data]   Unzipping corpora/stopwords.zip.\n"
          ]
        },
        {
          "output_type": "execute_result",
          "data": {
            "text/plain": [
              "True"
            ]
          },
          "metadata": {},
          "execution_count": 2
        }
      ]
    },
    {
      "cell_type": "code",
      "source": [
        "seed = 7\n",
        "np.random.seed(seed)\n",
        "\n",
        "# O model será exportado para este arquivo\n",
        "filename='/content/model/model_saved.h5'\n",
        "\n",
        "epochs = 5\n",
        "\n",
        "# dimensionalidade do word embedding pré-treinado\n",
        "word_embedding_dim = 50\n",
        "\n",
        "# número de amostras a serem utilizadas em cada atualização do gradiente\n",
        "batch_size = 32\n",
        "\n",
        "# Reflete a quantidade máxima de palavras que iremos manter no vocabulário\n",
        "max_fatures = 5000\n",
        "\n",
        "# dimensão de saída da camada Embedding\n",
        "embed_dim = 128\n",
        "\n",
        "# limitamos o tamanho máximo de todas as sentenças\n",
        "max_sequence_length = 300\n",
        "\n",
        "pre_trained_wv = False\n",
        "\n",
        "bilstm = False"
      ],
      "metadata": {
        "id": "f00etErxDnDI"
      },
      "execution_count": 12,
      "outputs": []
    },
    {
      "cell_type": "code",
      "source": [
        "def clean_str(string):\n",
        "    string = re.sub(r\"[^A-Za-z0-9(),!?\\'\\`]\", \" \", string)\n",
        "    string = re.sub(r\"\\'s\", \" \\'s\", string)\n",
        "    string = re.sub(r\"\\'ve\", \" \\'ve\", string)\n",
        "    string = re.sub(r\"n\\'t\", \" n\\'t\", string)\n",
        "    string = re.sub(r\"\\'re\", \" \\'re\", string)\n",
        "    string = re.sub(r\"\\'d\", \" \\'d\", string)\n",
        "    string = re.sub(r\"\\'ll\", \" \\'ll\", string)\n",
        "    string = re.sub(r\",\", \" , \", string)\n",
        "    string = re.sub(r\"!\", \" ! \", string)\n",
        "    string = re.sub(r\"\\(\", \" \\( \", string)\n",
        "    string = re.sub(r\"\\)\", \" \\) \", string)\n",
        "    string = re.sub(r\"\\?\", \" \\? \", string)\n",
        "    string = re.sub(r\"\\s{2,}\", \" \", string)\n",
        "\n",
        "    cleanr = re.compile('<.*?>')\n",
        "\n",
        "    string = re.sub(r'\\d+', '', string)\n",
        "    string = re.sub(cleanr, '', string)\n",
        "    string = re.sub(\"'\", '', string)\n",
        "    string = re.sub(r'\\W+', ' ', string)\n",
        "    string = string.replace('_', '')\n",
        "\n",
        "\n",
        "    return string.strip().lower()"
      ],
      "metadata": {
        "id": "rTX0FrVvDrdj"
      },
      "execution_count": 5,
      "outputs": []
    },
    {
      "cell_type": "code",
      "source": [
        "def prepare_data(data):\n",
        "    \n",
        "    data = data[['text','sentiment']]\n",
        "\n",
        "    data['text'] = data['text'].apply(lambda x: x.lower())\n",
        "    data['text'] = data['text'].apply(lambda x: clean_str(x))\n",
        "    data['text'] = data['text'].apply((lambda x: re.sub('[^a-zA-z0-9\\s]','',x)))\n",
        "    \n",
        "    stop_words = set(stopwords.words('portuguese'))\n",
        "    text = []\n",
        "    for row in data['text'].values:\n",
        "        word_list = text_to_word_sequence(row)\n",
        "        no_stop_words = [w for w in word_list if not w in stop_words]\n",
        "        no_stop_words = \" \".join(no_stop_words)\n",
        "        text.append(no_stop_words)\n",
        "\n",
        "\n",
        "    tokenizer = Tokenizer(num_words=max_fatures, split=' ')\n",
        "\n",
        "    tokenizer.fit_on_texts(text)\n",
        "    X = tokenizer.texts_to_sequences(text)  \n",
        "    \n",
        "    X = pad_sequences(X, maxlen=max_sequence_length)\n",
        "    #X = pad_sequences(X)\n",
        "\n",
        "    word_index = tokenizer.word_index\n",
        "    Y = pd.get_dummies(data['sentiment']).values\n",
        "    X_train, X_test, Y_train, Y_test = train_test_split(X,Y, test_size = 0.20, random_state = 42)\n",
        "\n",
        "    return X_train, X_test, Y_train, Y_test, word_index, tokenizer"
      ],
      "metadata": {
        "id": "eP6hRACADz9c"
      },
      "execution_count": 6,
      "outputs": []
    },
    {
      "cell_type": "code",
      "source": [
        "    data = pd.read_excel('/content/dataset/imdb.xlsx')\n",
        "\n",
        "X_train, X_test, Y_train, Y_test, word_index, tokenizer = prepare_data(data)\n",
        "\n",
        "print(X_train.shape,Y_train.shape)\n",
        "print(X_test.shape,Y_test.shape)"
      ],
      "metadata": {
        "id": "J5EbUoX2D11w",
        "colab": {
          "base_uri": "https://localhost:8080/"
        },
        "outputId": "8dda319d-db4f-436c-dea2-94e3cb74772a"
      },
      "execution_count": 7,
      "outputs": [
        {
          "output_type": "stream",
          "name": "stdout",
          "text": [
            "(1600, 300) (1600, 2)\n",
            "(400, 300) (400, 2)\n"
          ]
        }
      ]
    },
    {
      "cell_type": "code",
      "source": [
        "def load_pre_trained_wv(word_index, num_words, word_embedding_dim):\n",
        "    embeddings_index = {}\n",
        "    f = open(os.path.join('./word_embedding', 'glove.6B.{0}d.txt'.format(word_embedding_dim)), encoding='utf-8')\n",
        "    for line in tqdm(f):\n",
        "        values = line.rstrip().rsplit(' ')\n",
        "        word = values[0]\n",
        "        coefs = np.asarray(values[1:], dtype='float32')\n",
        "        embeddings_index[word] = coefs\n",
        "    f.close()\n",
        "\n",
        "    print('%s word vectors.' % len(embeddings_index))\n",
        "\n",
        "    embedding_matrix = np.zeros((num_words, word_embedding_dim))\n",
        "    for word, i in word_index.items():\n",
        "        if i >= max_fatures:\n",
        "            continue\n",
        "        embedding_vector = embeddings_index.get(word)\n",
        "        if embedding_vector is not None:\n",
        "            embedding_matrix[i] = embedding_vector\n",
        "\n",
        "    return embedding_matrix"
      ],
      "metadata": {
        "id": "rurGSgsMD4gH"
      },
      "execution_count": 8,
      "outputs": []
    },
    {
      "cell_type": "code",
      "source": [
        "def model():\n",
        "    \n",
        "    if pre_trained_wv is True:\n",
        "        print(\"USE PRE TRAINED\")\n",
        "        num_words = min(max_fatures, len(word_index) + 1)\n",
        "        weights_embedding_matrix = load_pre_trained_wv(word_index, num_words, word_embedding_dim)\n",
        "        input_shape = (max_sequence_length,)\n",
        "        model_input = Input(shape=input_shape, name=\"input\", dtype='int32')    \n",
        "        embedding = Embedding(\n",
        "            num_words, \n",
        "            word_embedding_dim,\n",
        "            input_length=max_sequence_length, \n",
        "            name=\"embedding\", \n",
        "            weights=[weights_embedding_matrix], \n",
        "            trainable=False)(model_input)\n",
        "        if bilstm is True:\n",
        "            lstm = Bidirectional(LSTM(word_embedding_dim, dropout=0.2, recurrent_dropout=0.2, name=\"lstm\"))(embedding)\n",
        "        else:\n",
        "            lstm = LSTM(word_embedding_dim, dropout=0.2, recurrent_dropout=0.2, name=\"lstm\")(embedding)\n",
        "\n",
        "    else:\n",
        "        input_shape = (max_sequence_length,)\n",
        "        model_input = Input(shape=input_shape, name=\"input\", dtype='int32')    \n",
        "\n",
        "        embedding = Embedding(max_fatures, embed_dim, input_length=max_sequence_length, name=\"embedding\")(model_input)\n",
        "        \n",
        "        if bilstm is True:\n",
        "            lstm = Bidirectional(LSTM(embed_dim, dropout=0.2, recurrent_dropout=0.2, name=\"lstm\"))(embedding)\n",
        "        else:\n",
        "            lstm = LSTM(embed_dim, dropout=0.2, recurrent_dropout=0.2, name=\"lstm\")(embedding)\n",
        "    \n",
        "    model_output = Dense(2, activation='softmax', name=\"softmax\")(lstm)\n",
        "    model = Model(inputs=model_input, outputs=model_output)\n",
        "    return model"
      ],
      "metadata": {
        "id": "T261NR9xD5yo"
      },
      "execution_count": 17,
      "outputs": []
    },
    {
      "cell_type": "code",
      "source": [
        "model = model()\n",
        "\n",
        "model.compile(loss = 'binary_crossentropy', optimizer='adam', metrics = ['accuracy'])\n",
        "\n",
        "print(model.summary())\n",
        "\n",
        "if not os.path.exists('./{}'.format(filename) ):\n",
        "\n",
        "    hist = model.fit(\n",
        "        X_train, \n",
        "        Y_train, \n",
        "        validation_data=(X_test, Y_test),\n",
        "        epochs=epochs,\n",
        "        batch_size=batch_size, \n",
        "        shuffle=True,\n",
        "        verbose=1)\n",
        "\n",
        "    model.save_weights(filename)    \n",
        "\n",
        "\n",
        "    # Plot\n",
        "    plt.figure()\n",
        "    plt.plot(hist.history['loss'], lw=2.0, color='b', label='train')\n",
        "    plt.plot(hist.history['val_loss'], lw=2.0, color='r', label='val')\n",
        "    plt.title('Classificador de sentimentos')\n",
        "    plt.xlabel('Epochs')\n",
        "    plt.ylabel('Cross-Entropy')\n",
        "    plt.legend(loc='upper right')\n",
        "    plt.show()\n",
        "\n",
        "    plt.figure()\n",
        "    plt.plot(hist.history['accuracy'], lw=2.0, color='b', label='train')\n",
        "    plt.plot(hist.history['val_accuracy'], lw=2.0, color='r', label='val')\n",
        "    plt.title('Classificador de sentimentos')\n",
        "    plt.xlabel('Epochs')\n",
        "    plt.ylabel('Acurácia')\n",
        "    plt.legend(loc='upper left')\n",
        "    plt.show()\n",
        "\n",
        "else:\n",
        "    model.load_weights('./{}'.format(filename) )\n",
        "\n",
        "scores = model.evaluate(X_test, Y_test, verbose = 0, batch_size = batch_size)\n",
        "print(\"Acc: %.2f%%\" % (scores[1]*100))"
      ],
      "metadata": {
        "id": "G1yQvLx6D7fF",
        "colab": {
          "base_uri": "https://localhost:8080/",
          "height": 1000
        },
        "outputId": "79e2df16-ad1f-42cf-ae10-5f7dc1756b35"
      },
      "execution_count": 18,
      "outputs": [
        {
          "output_type": "stream",
          "name": "stdout",
          "text": [
            "Model: \"model_2\"\n",
            "_________________________________________________________________\n",
            " Layer (type)                Output Shape              Param #   \n",
            "=================================================================\n",
            " input (InputLayer)          [(None, 300)]             0         \n",
            "                                                                 \n",
            " embedding (Embedding)       (None, 300, 128)          640000    \n",
            "                                                                 \n",
            " lstm (LSTM)                 (None, 128)               131584    \n",
            "                                                                 \n",
            " softmax (Dense)             (None, 2)                 258       \n",
            "                                                                 \n",
            "=================================================================\n",
            "Total params: 771,842\n",
            "Trainable params: 771,842\n",
            "Non-trainable params: 0\n",
            "_________________________________________________________________\n",
            "None\n",
            "Epoch 1/10\n",
            "50/50 [==============================] - 46s 869ms/step - loss: 0.6770 - accuracy: 0.5838 - val_loss: 0.6441 - val_accuracy: 0.7550\n",
            "Epoch 2/10\n",
            "50/50 [==============================] - 43s 857ms/step - loss: 0.4989 - accuracy: 0.8469 - val_loss: 0.4646 - val_accuracy: 0.7750\n",
            "Epoch 3/10\n",
            "50/50 [==============================] - 44s 872ms/step - loss: 0.2809 - accuracy: 0.9050 - val_loss: 0.3653 - val_accuracy: 0.8450\n",
            "Epoch 4/10\n",
            "50/50 [==============================] - 42s 847ms/step - loss: 0.0884 - accuracy: 0.9694 - val_loss: 0.4044 - val_accuracy: 0.8350\n",
            "Epoch 5/10\n",
            "50/50 [==============================] - 43s 858ms/step - loss: 0.0546 - accuracy: 0.9869 - val_loss: 0.3840 - val_accuracy: 0.8400\n",
            "Epoch 6/10\n",
            "50/50 [==============================] - 43s 865ms/step - loss: 0.0259 - accuracy: 0.9950 - val_loss: 0.5128 - val_accuracy: 0.8000\n",
            "Epoch 7/10\n",
            "50/50 [==============================] - 43s 855ms/step - loss: 0.0061 - accuracy: 0.9987 - val_loss: 0.5593 - val_accuracy: 0.8525\n",
            "Epoch 8/10\n",
            "50/50 [==============================] - 43s 857ms/step - loss: 0.0054 - accuracy: 0.9994 - val_loss: 0.6129 - val_accuracy: 0.8375\n",
            "Epoch 9/10\n",
            "50/50 [==============================] - 43s 867ms/step - loss: 0.0014 - accuracy: 1.0000 - val_loss: 0.6181 - val_accuracy: 0.8650\n",
            "Epoch 10/10\n",
            "50/50 [==============================] - 44s 874ms/step - loss: 8.9310e-04 - accuracy: 1.0000 - val_loss: 0.6866 - val_accuracy: 0.8275\n"
          ]
        },
        {
          "output_type": "display_data",
          "data": {
            "text/plain": [
              "<Figure size 432x288 with 1 Axes>"
            ],
            "image/png": "[encoded data removed]"
          },
          "metadata": {
            "needs_background": "light"
          }
        },
        {
          "output_type": "display_data",
          "data": {
            "text/plain": [
              "<Figure size 432x288 with 1 Axes>"
            ],
            "image/png": "[encoded data removed]"
          },
          "metadata": {
            "needs_background": "light"
          }
        },
        {
          "output_type": "stream",
          "name": "stdout",
          "text": [
            "Acc: 82.75%\n"
          ]
        }
      ]
    },
    {
      "cell_type": "code",
      "source": [
        "while True:\n",
        "    sentence = input(\"input> \")\n",
        "\n",
        "    if sentence == \"exit\":\n",
        "        break\n",
        "    \n",
        "    new_text = [sentence]\n",
        "    new_text = tokenizer.texts_to_sequences(new_text)\n",
        "\n",
        "    new_text = pad_sequences(new_text, maxlen=max_sequence_length, dtype='int32', value=0)\n",
        "\n",
        "    sentiment = model.predict(new_text,batch_size=1,verbose = 2)[0]\n",
        "\n",
        "    if(np.argmax(sentiment) == 0):\n",
        "        pred_proba = \"%.2f%%\" % (sentiment[0]*100)\n",
        "        print(\"negativo => \", pred_proba)\n",
        "    elif (np.argmax(sentiment) == 1):\n",
        "        pred_proba = \"%.2f%%\" % (sentiment[1]*100)\n",
        "        print(\"positivo => \", pred_proba)"
      ],
      "metadata": {
        "id": "EXfWMh_9D986",
        "colab": {
          "base_uri": "https://localhost:8080/"
        },
        "outputId": "114ae762-3f9d-442e-dabe-0b29a81d2127"
      },
      "execution_count": 19,
      "outputs": [
        {
          "name": "stdout",
          "output_type": "stream",
          "text": [
            "input> O último filme de velozes e furiosos foi horrível, história muito ruim e com contexto tediante.\n",
            "1/1 - 0s - 308ms/epoch - 308ms/step\n",
            "negativo =>  99.70%\n",
            "input> Amei o filme do capitão américa, produção muito boa, e história legal!\n",
            "1/1 - 0s - 60ms/epoch - 60ms/step\n",
            "positivo =>  93.40%\n",
            "input> exit\n"
          ]
        }
      ]
    }
  ]
}